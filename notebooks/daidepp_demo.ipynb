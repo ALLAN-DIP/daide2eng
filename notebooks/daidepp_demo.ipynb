{
 "cells": [
  {
   "cell_type": "markdown",
   "id": "65583d86",
   "metadata": {},
   "source": [
    "# Parsing DAIDE strings"
   ]
  },
  {
   "cell_type": "code",
   "execution_count": null,
   "id": "433c5a7a",
   "metadata": {},
   "outputs": [],
   "source": [
    "from daidepp import create_daide_grammar, daide_visitor\n",
    "from pprint import pprint"
   ]
  },
  {
   "cell_type": "code",
   "execution_count": null,
   "id": "e1dfb36a",
   "metadata": {},
   "outputs": [],
   "source": [
    "grammar = create_daide_grammar(level=130)"
   ]
  },
  {
   "cell_type": "markdown",
   "id": "72260281",
   "metadata": {},
   "source": [
    "## Successful parses"
   ]
  },
  {
   "cell_type": "code",
   "execution_count": null,
   "id": "e22fe89b",
   "metadata": {},
   "outputs": [],
   "source": [
    "def parse(grammar, message):\n",
    "    parse_tree = grammar.parse(message)\n",
    "    output = daide_visitor.visit(parse_tree)\n",
    "    pprint(output)"
   ]
  },
  {
   "cell_type": "code",
   "execution_count": null,
   "id": "8964da26",
   "metadata": {},
   "outputs": [],
   "source": [
    "message = 'PRP (PCE (AUS GER FRA))'\n",
    "parse(grammar, message)"
   ]
  },
  {
   "cell_type": "code",
   "execution_count": null,
   "id": "1641ab17",
   "metadata": {},
   "outputs": [],
   "source": [
    "message = 'PRP (AND (SLO (ENG)) (SLO (GER)) (SLO (RUS)) (AND (SLO (ENG)) (SLO (GER)) (SLO (RUS))))'\n",
    "parse(grammar, message)"
   ]
  },
  {
   "cell_type": "code",
   "execution_count": null,
   "id": "f24e7680",
   "metadata": {},
   "outputs": [],
   "source": [
    "message = 'PRP (AND (SLO (ENG)) (SLO (GER)) (SLO (RUS)) (AND (SLO (ENG)) (SLO (GER)) (ORR (PCE (AUS GER)) (ALY (GER FRA) VSS (TUR RUS)))))'\n",
    "parse(grammar, message)"
   ]
  },
  {
   "cell_type": "code",
   "execution_count": null,
   "id": "a75146dc",
   "metadata": {},
   "outputs": [],
   "source": [
    "grammar_20 = create_daide_grammar(level=20, allow_just_arrangment=True)\n",
    "message = 'XDO ((ENG AMY LVP) HLD)'\n",
    "parse(grammar_20, message)"
   ]
  },
  {
   "cell_type": "markdown",
   "id": "cc166aeb",
   "metadata": {},
   "source": [
    "## Invalid DAIDE messages"
   ]
  },
  {
   "cell_type": "markdown",
   "id": "105c9480",
   "metadata": {},
   "source": [
    "### Non-daide token"
   ]
  },
  {
   "cell_type": "code",
   "execution_count": null,
   "id": "bbd699d4",
   "metadata": {},
   "outputs": [],
   "source": [
    "message = 'PRP (PCE (AuUS GER FRA))'\n",
    "parse(grammar, message)"
   ]
  },
  {
   "cell_type": "markdown",
   "id": "512955b7",
   "metadata": {},
   "source": [
    "### Daide token in higher level"
   ]
  },
  {
   "cell_type": "code",
   "execution_count": null,
   "id": "9fcf0d2a",
   "metadata": {},
   "outputs": [],
   "source": [
    "grammar_10 = create_daide_grammar(level=10)\n",
    "message = 'PRP (XDO ((ENG AMY LVP) HLD))'\n",
    "parse(grammar_10, message)"
   ]
  },
  {
   "cell_type": "code",
   "execution_count": null,
   "id": "d19e82c5",
   "metadata": {},
   "outputs": [],
   "source": [
    "grammar_10 = create_daide_grammar(level=10)\n",
    "message = 'PRP (XDO ((ENG AMY LVP) HLD))'\n",
    "parse(grammar_10, message)"
   ]
  },
  {
   "cell_type": "markdown",
   "id": "8bdbc122",
   "metadata": {},
   "source": [
    "### Invalid string structure"
   ]
  },
  {
   "cell_type": "code",
   "execution_count": null,
   "id": "4ad21211",
   "metadata": {
    "scrolled": true
   },
   "outputs": [],
   "source": [
    "message = 'PRP (PCE ((ENG AMY LVP) HLD))'\n",
    "parse(grammar, message)"
   ]
  },
  {
   "cell_type": "markdown",
   "id": "12355302",
   "metadata": {},
   "source": [
    "# Constructing DAIDE strings with keyword objects"
   ]
  },
  {
   "cell_type": "code",
   "execution_count": null,
   "id": "0ba9596e",
   "metadata": {},
   "outputs": [],
   "source": [
    "from daidepp.keywords import *"
   ]
  },
  {
   "cell_type": "code",
   "execution_count": null,
   "id": "33e7bc27",
   "metadata": {},
   "outputs": [],
   "source": [
    "print(PCE(\"AUS\", \"ENG\", \"FRA\"))"
   ]
  },
  {
   "cell_type": "code",
   "execution_count": null,
   "id": "6a5d157e",
   "metadata": {},
   "outputs": [],
   "source": [
    "print(ALYVSS([\"AUS\", \"GER\"], [\"ENG\", \"FRA\"]))"
   ]
  },
  {
   "cell_type": "code",
   "execution_count": null,
   "id": "f0bd9622",
   "metadata": {},
   "outputs": [],
   "source": [
    "print(IFF(PCE(\"AUS\", \"ENG\"), PRP(PCE(\"AUS\", \"ITA\"))))"
   ]
  },
  {
   "cell_type": "code",
   "execution_count": null,
   "id": "ca426f4a",
   "metadata": {},
   "outputs": [],
   "source": [
    "print(IFF(PCE(\"AUS\", \"ENG\"), PRP(PCE(\"AUS\", \"ITA\")), PRP(PCE(\"GER\", \"FRA\"))))"
   ]
  },
  {
   "cell_type": "code",
   "execution_count": null,
   "id": "f2c7f416",
   "metadata": {},
   "outputs": [],
   "source": []
  },
  {
   "cell_type": "code",
   "execution_count": null,
   "id": "e9b595a5",
   "metadata": {},
   "outputs": [],
   "source": [
    "from dataclasses import dataclass\n",
    "from typing_extensions import Literal\n",
    "\n",
    "POWER = Literal[\"AUS\", \"ENG\", \"FRA\", \"GER\", \"ITA\", \"RUS\", \"TUR\"]\n",
    "\n",
    "@dataclass\n",
    "class PCE:\n",
    "    powers: List[POWER]\n",
    "\n",
    "    def __init__(self, *powers):\n",
    "        self.powers = powers\n",
    "\n",
    "    def __str__(self):\n",
    "        return \"PCE ( \" + \" \".join(self.powers) + \" )\"\n",
    "    \n",
    "    def as_tuple(self):\n",
    "        return ('PCE', ('AUS', 'GER', 'FRA'))\n",
    "    \n",
    "\n",
    "pce = PCE(\"AUS\", \"GER\")\n",
    "print(pce.powers)\n",
    "print(pce.as_tuple())"
   ]
  },
  {
   "cell_type": "code",
   "execution_count": null,
   "id": "ed9a1f59",
   "metadata": {},
   "outputs": [],
   "source": []
  }
 ],
 "metadata": {
  "kernelspec": {
   "display_name": "Python 3 (ipykernel)",
   "language": "python",
   "name": "python3"
  },
  "language_info": {
   "codemirror_mode": {
    "name": "ipython",
    "version": 3
   },
   "file_extension": ".py",
   "mimetype": "text/x-python",
   "name": "python",
   "nbconvert_exporter": "python",
   "pygments_lexer": "ipython3",
   "version": "3.9.15"
  }
 },
 "nbformat": 4,
 "nbformat_minor": 5
}
