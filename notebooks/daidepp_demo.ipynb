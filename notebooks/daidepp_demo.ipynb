{
 "cells": [
  {
   "cell_type": "markdown",
   "id": "65583d86",
   "metadata": {},
   "source": [
    "# Parsing DAIDE strings"
   ]
  },
  {
   "cell_type": "code",
   "execution_count": 6,
   "id": "433c5a7a",
   "metadata": {},
   "outputs": [],
   "source": [
    "from daidepp import create_daide_grammar, daide_visitor\n",
    "from pprint import pprint"
   ]
  },
  {
   "cell_type": "code",
   "execution_count": 8,
   "id": "e1dfb36a",
   "metadata": {},
   "outputs": [],
   "source": [
    "grammar = create_daide_grammar(level=130)"
   ]
  },
  {
   "cell_type": "markdown",
   "id": "72260281",
   "metadata": {},
   "source": [
    "## Successful parses"
   ]
  },
  {
   "cell_type": "code",
   "execution_count": 18,
   "id": "e22fe89b",
   "metadata": {},
   "outputs": [],
   "source": [
    "def parse(grammar, message):\n",
    "    parse_tree = grammar.parse(message)\n",
    "    output = daide_visitor.visit(parse_tree)\n",
    "    pprint(output)"
   ]
  },
  {
   "cell_type": "code",
   "execution_count": 19,
   "id": "8964da26",
   "metadata": {},
   "outputs": [
    {
     "name": "stdout",
     "output_type": "stream",
     "text": [
      "('PRP', ('PCE', ['AUS', 'GER', 'FRA']))\n"
     ]
    }
   ],
   "source": [
    "message = 'PRP (PCE (AUS GER FRA))'\n",
    "parse(grammar, message)"
   ]
  },
  {
   "cell_type": "code",
   "execution_count": 20,
   "id": "1641ab17",
   "metadata": {},
   "outputs": [
    {
     "name": "stdout",
     "output_type": "stream",
     "text": [
      "('PRP',\n",
      " ('AND',\n",
      "  [('SLO', 'ENG'),\n",
      "   ('SLO', 'GER'),\n",
      "   ('SLO', 'RUS'),\n",
      "   ('AND', [('SLO', 'ENG'), ('SLO', 'GER'), ('SLO', 'RUS')])]))\n"
     ]
    }
   ],
   "source": [
    "message = 'PRP (AND (SLO (ENG)) (SLO (GER)) (SLO (RUS)) (AND (SLO (ENG)) (SLO (GER)) (SLO (RUS))))'\n",
    "parse(grammar, message)"
   ]
  },
  {
   "cell_type": "code",
   "execution_count": 21,
   "id": "f24e7680",
   "metadata": {},
   "outputs": [
    {
     "name": "stdout",
     "output_type": "stream",
     "text": [
      "('PRP',\n",
      " ('AND',\n",
      "  [('SLO', 'ENG'),\n",
      "   ('SLO', 'GER'),\n",
      "   ('SLO', 'RUS'),\n",
      "   ('AND',\n",
      "    [('SLO', 'ENG'),\n",
      "     ('SLO', 'GER'),\n",
      "     ('ORR',\n",
      "      [('PCE', ['AUS', 'GER']),\n",
      "       ('ALY_VSS', (['GER', 'FRA'], ['TUR', 'RUS']))])])]))\n"
     ]
    }
   ],
   "source": [
    "message = 'PRP (AND (SLO (ENG)) (SLO (GER)) (SLO (RUS)) (AND (SLO (ENG)) (SLO (GER)) (ORR (PCE (AUS GER)) (ALY (GER FRA) VSS (TUR RUS)))))'\n",
    "parse(grammar, message)"
   ]
  },
  {
   "cell_type": "code",
   "execution_count": 37,
   "id": "a75146dc",
   "metadata": {},
   "outputs": [
    {
     "name": "stdout",
     "output_type": "stream",
     "text": [
      "('XDO', ('HLD', ('ENG', 'AMY', 'LVP')))\n"
     ]
    }
   ],
   "source": [
    "grammar_20 = create_daide_grammar(level=20, allow_just_arrangment=True)\n",
    "message = 'XDO ((ENG AMY LVP) HLD)'\n",
    "parse(grammar_20, message)"
   ]
  },
  {
   "cell_type": "markdown",
   "id": "cc166aeb",
   "metadata": {},
   "source": [
    "## Invalid DAIDE messages"
   ]
  },
  {
   "cell_type": "markdown",
   "id": "105c9480",
   "metadata": {},
   "source": [
    "### Non-daide token"
   ]
  },
  {
   "cell_type": "code",
   "execution_count": 22,
   "id": "bbd699d4",
   "metadata": {},
   "outputs": [
    {
     "ename": "ParseError",
     "evalue": "Rule 'power' didn't match at 'AuUS GER FRA))' (line 1, column 11).",
     "output_type": "error",
     "traceback": [
      "\u001b[0;31m---------------------------------------------------------------------------\u001b[0m",
      "\u001b[0;31mParseError\u001b[0m                                Traceback (most recent call last)",
      "Input \u001b[0;32mIn [22]\u001b[0m, in \u001b[0;36m<cell line: 2>\u001b[0;34m()\u001b[0m\n\u001b[1;32m      1\u001b[0m message \u001b[38;5;241m=\u001b[39m \u001b[38;5;124m'\u001b[39m\u001b[38;5;124mPRP (PCE (AuUS GER FRA))\u001b[39m\u001b[38;5;124m'\u001b[39m\n\u001b[0;32m----> 2\u001b[0m parse(grammar, message)\n",
      "Input \u001b[0;32mIn [18]\u001b[0m, in \u001b[0;36mparse\u001b[0;34m(grammar, message)\u001b[0m\n\u001b[1;32m      1\u001b[0m \u001b[38;5;28;01mdef\u001b[39;00m \u001b[38;5;21mparse\u001b[39m(grammar, message):\n\u001b[0;32m----> 2\u001b[0m     parse_tree \u001b[38;5;241m=\u001b[39m \u001b[43mgrammar\u001b[49m\u001b[38;5;241;43m.\u001b[39;49m\u001b[43mparse\u001b[49m\u001b[43m(\u001b[49m\u001b[43mmessage\u001b[49m\u001b[43m)\u001b[49m\n\u001b[1;32m      3\u001b[0m     output \u001b[38;5;241m=\u001b[39m daide_visitor\u001b[38;5;241m.\u001b[39mvisit(parse_tree)\n\u001b[1;32m      4\u001b[0m     pprint(output)\n",
      "File \u001b[0;32m~/proj/accord/venv/lib/python3.9/site-packages/parsimonious/grammar.py:111\u001b[0m, in \u001b[0;36mGrammar.parse\u001b[0;34m(self, text, pos)\u001b[0m\n\u001b[1;32m    105\u001b[0m \u001b[38;5;124;03m\"\"\"Parse some text with the :term:`default rule`.\u001b[39;00m\n\u001b[1;32m    106\u001b[0m \n\u001b[1;32m    107\u001b[0m \u001b[38;5;124;03m:arg pos: The index at which to start parsing\u001b[39;00m\n\u001b[1;32m    108\u001b[0m \n\u001b[1;32m    109\u001b[0m \u001b[38;5;124;03m\"\"\"\u001b[39;00m\n\u001b[1;32m    110\u001b[0m \u001b[38;5;28mself\u001b[39m\u001b[38;5;241m.\u001b[39m_check_default_rule()\n\u001b[0;32m--> 111\u001b[0m \u001b[38;5;28;01mreturn\u001b[39;00m \u001b[38;5;28;43mself\u001b[39;49m\u001b[38;5;241;43m.\u001b[39;49m\u001b[43mdefault_rule\u001b[49m\u001b[38;5;241;43m.\u001b[39;49m\u001b[43mparse\u001b[49m\u001b[43m(\u001b[49m\u001b[43mtext\u001b[49m\u001b[43m,\u001b[49m\u001b[43m \u001b[49m\u001b[43mpos\u001b[49m\u001b[38;5;241;43m=\u001b[39;49m\u001b[43mpos\u001b[49m\u001b[43m)\u001b[49m\n",
      "File \u001b[0;32m~/proj/accord/venv/lib/python3.9/site-packages/parsimonious/expressions.py:130\u001b[0m, in \u001b[0;36mExpression.parse\u001b[0;34m(self, text, pos)\u001b[0m\n\u001b[1;32m    122\u001b[0m \u001b[38;5;28;01mdef\u001b[39;00m \u001b[38;5;21mparse\u001b[39m(\u001b[38;5;28mself\u001b[39m, text, pos\u001b[38;5;241m=\u001b[39m\u001b[38;5;241m0\u001b[39m):\n\u001b[1;32m    123\u001b[0m     \u001b[38;5;124;03m\"\"\"Return a parse tree of ``text``.\u001b[39;00m\n\u001b[1;32m    124\u001b[0m \n\u001b[1;32m    125\u001b[0m \u001b[38;5;124;03m    Raise ``ParseError`` if the expression wasn't satisfied. Raise\u001b[39;00m\n\u001b[0;32m   (...)\u001b[0m\n\u001b[1;32m    128\u001b[0m \n\u001b[1;32m    129\u001b[0m \u001b[38;5;124;03m    \"\"\"\u001b[39;00m\n\u001b[0;32m--> 130\u001b[0m     node \u001b[38;5;241m=\u001b[39m \u001b[38;5;28;43mself\u001b[39;49m\u001b[38;5;241;43m.\u001b[39;49m\u001b[43mmatch\u001b[49m\u001b[43m(\u001b[49m\u001b[43mtext\u001b[49m\u001b[43m,\u001b[49m\u001b[43m \u001b[49m\u001b[43mpos\u001b[49m\u001b[38;5;241;43m=\u001b[39;49m\u001b[43mpos\u001b[49m\u001b[43m)\u001b[49m\n\u001b[1;32m    131\u001b[0m     \u001b[38;5;28;01mif\u001b[39;00m node\u001b[38;5;241m.\u001b[39mend \u001b[38;5;241m<\u001b[39m \u001b[38;5;28mlen\u001b[39m(text):\n\u001b[1;32m    132\u001b[0m         \u001b[38;5;28;01mraise\u001b[39;00m IncompleteParseError(text, node\u001b[38;5;241m.\u001b[39mend, \u001b[38;5;28mself\u001b[39m)\n",
      "File \u001b[0;32m~/proj/accord/venv/lib/python3.9/site-packages/parsimonious/expressions.py:147\u001b[0m, in \u001b[0;36mExpression.match\u001b[0;34m(self, text, pos)\u001b[0m\n\u001b[1;32m    145\u001b[0m node \u001b[38;5;241m=\u001b[39m \u001b[38;5;28mself\u001b[39m\u001b[38;5;241m.\u001b[39mmatch_core(text, pos, {}, error)\n\u001b[1;32m    146\u001b[0m \u001b[38;5;28;01mif\u001b[39;00m node \u001b[38;5;129;01mis\u001b[39;00m \u001b[38;5;28;01mNone\u001b[39;00m:\n\u001b[0;32m--> 147\u001b[0m     \u001b[38;5;28;01mraise\u001b[39;00m error\n\u001b[1;32m    148\u001b[0m \u001b[38;5;28;01mreturn\u001b[39;00m node\n",
      "\u001b[0;31mParseError\u001b[0m: Rule 'power' didn't match at 'AuUS GER FRA))' (line 1, column 11)."
     ]
    }
   ],
   "source": [
    "message = 'PRP (PCE (AuUS GER FRA))'\n",
    "parse(grammar, message)"
   ]
  },
  {
   "cell_type": "markdown",
   "id": "512955b7",
   "metadata": {},
   "source": [
    "### Daide token in higher level"
   ]
  },
  {
   "cell_type": "code",
   "execution_count": 28,
   "id": "9fcf0d2a",
   "metadata": {},
   "outputs": [
    {
     "ename": "ParseError",
     "evalue": "Rule 'arrangement' didn't match at 'XDO ((ENG AMY LVP) H' (line 1, column 6).",
     "output_type": "error",
     "traceback": [
      "\u001b[0;31m---------------------------------------------------------------------------\u001b[0m",
      "\u001b[0;31mParseError\u001b[0m                                Traceback (most recent call last)",
      "Input \u001b[0;32mIn [28]\u001b[0m, in \u001b[0;36m<cell line: 3>\u001b[0;34m()\u001b[0m\n\u001b[1;32m      1\u001b[0m grammar_10 \u001b[38;5;241m=\u001b[39m create_daide_grammar(level\u001b[38;5;241m=\u001b[39m\u001b[38;5;241m10\u001b[39m)\n\u001b[1;32m      2\u001b[0m message \u001b[38;5;241m=\u001b[39m \u001b[38;5;124m'\u001b[39m\u001b[38;5;124mPRP (XDO ((ENG AMY LVP) HLD))\u001b[39m\u001b[38;5;124m'\u001b[39m\n\u001b[0;32m----> 3\u001b[0m parse(grammar_10, message)\n",
      "Input \u001b[0;32mIn [18]\u001b[0m, in \u001b[0;36mparse\u001b[0;34m(grammar, message)\u001b[0m\n\u001b[1;32m      1\u001b[0m \u001b[38;5;28;01mdef\u001b[39;00m \u001b[38;5;21mparse\u001b[39m(grammar, message):\n\u001b[0;32m----> 2\u001b[0m     parse_tree \u001b[38;5;241m=\u001b[39m \u001b[43mgrammar\u001b[49m\u001b[38;5;241;43m.\u001b[39;49m\u001b[43mparse\u001b[49m\u001b[43m(\u001b[49m\u001b[43mmessage\u001b[49m\u001b[43m)\u001b[49m\n\u001b[1;32m      3\u001b[0m     output \u001b[38;5;241m=\u001b[39m daide_visitor\u001b[38;5;241m.\u001b[39mvisit(parse_tree)\n\u001b[1;32m      4\u001b[0m     pprint(output)\n",
      "File \u001b[0;32m~/proj/accord/venv/lib/python3.9/site-packages/parsimonious/grammar.py:111\u001b[0m, in \u001b[0;36mGrammar.parse\u001b[0;34m(self, text, pos)\u001b[0m\n\u001b[1;32m    105\u001b[0m \u001b[38;5;124;03m\"\"\"Parse some text with the :term:`default rule`.\u001b[39;00m\n\u001b[1;32m    106\u001b[0m \n\u001b[1;32m    107\u001b[0m \u001b[38;5;124;03m:arg pos: The index at which to start parsing\u001b[39;00m\n\u001b[1;32m    108\u001b[0m \n\u001b[1;32m    109\u001b[0m \u001b[38;5;124;03m\"\"\"\u001b[39;00m\n\u001b[1;32m    110\u001b[0m \u001b[38;5;28mself\u001b[39m\u001b[38;5;241m.\u001b[39m_check_default_rule()\n\u001b[0;32m--> 111\u001b[0m \u001b[38;5;28;01mreturn\u001b[39;00m \u001b[38;5;28;43mself\u001b[39;49m\u001b[38;5;241;43m.\u001b[39;49m\u001b[43mdefault_rule\u001b[49m\u001b[38;5;241;43m.\u001b[39;49m\u001b[43mparse\u001b[49m\u001b[43m(\u001b[49m\u001b[43mtext\u001b[49m\u001b[43m,\u001b[49m\u001b[43m \u001b[49m\u001b[43mpos\u001b[49m\u001b[38;5;241;43m=\u001b[39;49m\u001b[43mpos\u001b[49m\u001b[43m)\u001b[49m\n",
      "File \u001b[0;32m~/proj/accord/venv/lib/python3.9/site-packages/parsimonious/expressions.py:130\u001b[0m, in \u001b[0;36mExpression.parse\u001b[0;34m(self, text, pos)\u001b[0m\n\u001b[1;32m    122\u001b[0m \u001b[38;5;28;01mdef\u001b[39;00m \u001b[38;5;21mparse\u001b[39m(\u001b[38;5;28mself\u001b[39m, text, pos\u001b[38;5;241m=\u001b[39m\u001b[38;5;241m0\u001b[39m):\n\u001b[1;32m    123\u001b[0m     \u001b[38;5;124;03m\"\"\"Return a parse tree of ``text``.\u001b[39;00m\n\u001b[1;32m    124\u001b[0m \n\u001b[1;32m    125\u001b[0m \u001b[38;5;124;03m    Raise ``ParseError`` if the expression wasn't satisfied. Raise\u001b[39;00m\n\u001b[0;32m   (...)\u001b[0m\n\u001b[1;32m    128\u001b[0m \n\u001b[1;32m    129\u001b[0m \u001b[38;5;124;03m    \"\"\"\u001b[39;00m\n\u001b[0;32m--> 130\u001b[0m     node \u001b[38;5;241m=\u001b[39m \u001b[38;5;28;43mself\u001b[39;49m\u001b[38;5;241;43m.\u001b[39;49m\u001b[43mmatch\u001b[49m\u001b[43m(\u001b[49m\u001b[43mtext\u001b[49m\u001b[43m,\u001b[49m\u001b[43m \u001b[49m\u001b[43mpos\u001b[49m\u001b[38;5;241;43m=\u001b[39;49m\u001b[43mpos\u001b[49m\u001b[43m)\u001b[49m\n\u001b[1;32m    131\u001b[0m     \u001b[38;5;28;01mif\u001b[39;00m node\u001b[38;5;241m.\u001b[39mend \u001b[38;5;241m<\u001b[39m \u001b[38;5;28mlen\u001b[39m(text):\n\u001b[1;32m    132\u001b[0m         \u001b[38;5;28;01mraise\u001b[39;00m IncompleteParseError(text, node\u001b[38;5;241m.\u001b[39mend, \u001b[38;5;28mself\u001b[39m)\n",
      "File \u001b[0;32m~/proj/accord/venv/lib/python3.9/site-packages/parsimonious/expressions.py:147\u001b[0m, in \u001b[0;36mExpression.match\u001b[0;34m(self, text, pos)\u001b[0m\n\u001b[1;32m    145\u001b[0m node \u001b[38;5;241m=\u001b[39m \u001b[38;5;28mself\u001b[39m\u001b[38;5;241m.\u001b[39mmatch_core(text, pos, {}, error)\n\u001b[1;32m    146\u001b[0m \u001b[38;5;28;01mif\u001b[39;00m node \u001b[38;5;129;01mis\u001b[39;00m \u001b[38;5;28;01mNone\u001b[39;00m:\n\u001b[0;32m--> 147\u001b[0m     \u001b[38;5;28;01mraise\u001b[39;00m error\n\u001b[1;32m    148\u001b[0m \u001b[38;5;28;01mreturn\u001b[39;00m node\n",
      "\u001b[0;31mParseError\u001b[0m: Rule 'arrangement' didn't match at 'XDO ((ENG AMY LVP) H' (line 1, column 6)."
     ]
    }
   ],
   "source": [
    "grammar_10 = create_daide_grammar(level=10)\n",
    "message = 'PRP (XDO ((ENG AMY LVP) HLD))'\n",
    "parse(grammar_10, message)"
   ]
  },
  {
   "cell_type": "code",
   "execution_count": 41,
   "id": "d19e82c5",
   "metadata": {},
   "outputs": [
    {
     "ename": "ParseError",
     "evalue": "Rule 'arrangement' didn't match at 'XDO ((ENG AMY LVP) H' (line 1, column 6).",
     "output_type": "error",
     "traceback": [
      "\u001b[0;31m---------------------------------------------------------------------------\u001b[0m",
      "\u001b[0;31mParseError\u001b[0m                                Traceback (most recent call last)",
      "Input \u001b[0;32mIn [41]\u001b[0m, in \u001b[0;36m<cell line: 3>\u001b[0;34m()\u001b[0m\n\u001b[1;32m      1\u001b[0m grammar_10 \u001b[38;5;241m=\u001b[39m create_daide_grammar(level\u001b[38;5;241m=\u001b[39m\u001b[38;5;241m10\u001b[39m)\n\u001b[1;32m      2\u001b[0m message \u001b[38;5;241m=\u001b[39m \u001b[38;5;124m'\u001b[39m\u001b[38;5;124mPRP (XDO ((ENG AMY LVP) HLD))\u001b[39m\u001b[38;5;124m'\u001b[39m\n\u001b[0;32m----> 3\u001b[0m parse(grammar_10, message)\n",
      "Input \u001b[0;32mIn [18]\u001b[0m, in \u001b[0;36mparse\u001b[0;34m(grammar, message)\u001b[0m\n\u001b[1;32m      1\u001b[0m \u001b[38;5;28;01mdef\u001b[39;00m \u001b[38;5;21mparse\u001b[39m(grammar, message):\n\u001b[0;32m----> 2\u001b[0m     parse_tree \u001b[38;5;241m=\u001b[39m \u001b[43mgrammar\u001b[49m\u001b[38;5;241;43m.\u001b[39;49m\u001b[43mparse\u001b[49m\u001b[43m(\u001b[49m\u001b[43mmessage\u001b[49m\u001b[43m)\u001b[49m\n\u001b[1;32m      3\u001b[0m     output \u001b[38;5;241m=\u001b[39m daide_visitor\u001b[38;5;241m.\u001b[39mvisit(parse_tree)\n\u001b[1;32m      4\u001b[0m     pprint(output)\n",
      "File \u001b[0;32m~/proj/accord/venv/lib/python3.9/site-packages/parsimonious/grammar.py:111\u001b[0m, in \u001b[0;36mGrammar.parse\u001b[0;34m(self, text, pos)\u001b[0m\n\u001b[1;32m    105\u001b[0m \u001b[38;5;124;03m\"\"\"Parse some text with the :term:`default rule`.\u001b[39;00m\n\u001b[1;32m    106\u001b[0m \n\u001b[1;32m    107\u001b[0m \u001b[38;5;124;03m:arg pos: The index at which to start parsing\u001b[39;00m\n\u001b[1;32m    108\u001b[0m \n\u001b[1;32m    109\u001b[0m \u001b[38;5;124;03m\"\"\"\u001b[39;00m\n\u001b[1;32m    110\u001b[0m \u001b[38;5;28mself\u001b[39m\u001b[38;5;241m.\u001b[39m_check_default_rule()\n\u001b[0;32m--> 111\u001b[0m \u001b[38;5;28;01mreturn\u001b[39;00m \u001b[38;5;28;43mself\u001b[39;49m\u001b[38;5;241;43m.\u001b[39;49m\u001b[43mdefault_rule\u001b[49m\u001b[38;5;241;43m.\u001b[39;49m\u001b[43mparse\u001b[49m\u001b[43m(\u001b[49m\u001b[43mtext\u001b[49m\u001b[43m,\u001b[49m\u001b[43m \u001b[49m\u001b[43mpos\u001b[49m\u001b[38;5;241;43m=\u001b[39;49m\u001b[43mpos\u001b[49m\u001b[43m)\u001b[49m\n",
      "File \u001b[0;32m~/proj/accord/venv/lib/python3.9/site-packages/parsimonious/expressions.py:130\u001b[0m, in \u001b[0;36mExpression.parse\u001b[0;34m(self, text, pos)\u001b[0m\n\u001b[1;32m    122\u001b[0m \u001b[38;5;28;01mdef\u001b[39;00m \u001b[38;5;21mparse\u001b[39m(\u001b[38;5;28mself\u001b[39m, text, pos\u001b[38;5;241m=\u001b[39m\u001b[38;5;241m0\u001b[39m):\n\u001b[1;32m    123\u001b[0m     \u001b[38;5;124;03m\"\"\"Return a parse tree of ``text``.\u001b[39;00m\n\u001b[1;32m    124\u001b[0m \n\u001b[1;32m    125\u001b[0m \u001b[38;5;124;03m    Raise ``ParseError`` if the expression wasn't satisfied. Raise\u001b[39;00m\n\u001b[0;32m   (...)\u001b[0m\n\u001b[1;32m    128\u001b[0m \n\u001b[1;32m    129\u001b[0m \u001b[38;5;124;03m    \"\"\"\u001b[39;00m\n\u001b[0;32m--> 130\u001b[0m     node \u001b[38;5;241m=\u001b[39m \u001b[38;5;28;43mself\u001b[39;49m\u001b[38;5;241;43m.\u001b[39;49m\u001b[43mmatch\u001b[49m\u001b[43m(\u001b[49m\u001b[43mtext\u001b[49m\u001b[43m,\u001b[49m\u001b[43m \u001b[49m\u001b[43mpos\u001b[49m\u001b[38;5;241;43m=\u001b[39;49m\u001b[43mpos\u001b[49m\u001b[43m)\u001b[49m\n\u001b[1;32m    131\u001b[0m     \u001b[38;5;28;01mif\u001b[39;00m node\u001b[38;5;241m.\u001b[39mend \u001b[38;5;241m<\u001b[39m \u001b[38;5;28mlen\u001b[39m(text):\n\u001b[1;32m    132\u001b[0m         \u001b[38;5;28;01mraise\u001b[39;00m IncompleteParseError(text, node\u001b[38;5;241m.\u001b[39mend, \u001b[38;5;28mself\u001b[39m)\n",
      "File \u001b[0;32m~/proj/accord/venv/lib/python3.9/site-packages/parsimonious/expressions.py:147\u001b[0m, in \u001b[0;36mExpression.match\u001b[0;34m(self, text, pos)\u001b[0m\n\u001b[1;32m    145\u001b[0m node \u001b[38;5;241m=\u001b[39m \u001b[38;5;28mself\u001b[39m\u001b[38;5;241m.\u001b[39mmatch_core(text, pos, {}, error)\n\u001b[1;32m    146\u001b[0m \u001b[38;5;28;01mif\u001b[39;00m node \u001b[38;5;129;01mis\u001b[39;00m \u001b[38;5;28;01mNone\u001b[39;00m:\n\u001b[0;32m--> 147\u001b[0m     \u001b[38;5;28;01mraise\u001b[39;00m error\n\u001b[1;32m    148\u001b[0m \u001b[38;5;28;01mreturn\u001b[39;00m node\n",
      "\u001b[0;31mParseError\u001b[0m: Rule 'arrangement' didn't match at 'XDO ((ENG AMY LVP) H' (line 1, column 6)."
     ]
    }
   ],
   "source": [
    "grammar_10 = create_daide_grammar(level=10)\n",
    "message = 'PRP (XDO ((ENG AMY LVP) HLD))'\n",
    "parse(grammar_10, message)"
   ]
  },
  {
   "cell_type": "markdown",
   "id": "8bdbc122",
   "metadata": {},
   "source": [
    "### Invalid string structure"
   ]
  },
  {
   "cell_type": "code",
   "execution_count": 43,
   "id": "4ad21211",
   "metadata": {
    "scrolled": true
   },
   "outputs": [
    {
     "ename": "ParseError",
     "evalue": "Rule 'power' didn't match at '(ENG AMY LVP) HLD))' (line 1, column 11).",
     "output_type": "error",
     "traceback": [
      "\u001b[0;31m---------------------------------------------------------------------------\u001b[0m",
      "\u001b[0;31mParseError\u001b[0m                                Traceback (most recent call last)",
      "Input \u001b[0;32mIn [43]\u001b[0m, in \u001b[0;36m<cell line: 2>\u001b[0;34m()\u001b[0m\n\u001b[1;32m      1\u001b[0m message \u001b[38;5;241m=\u001b[39m \u001b[38;5;124m'\u001b[39m\u001b[38;5;124mPRP (PCE ((ENG AMY LVP) HLD))\u001b[39m\u001b[38;5;124m'\u001b[39m\n\u001b[0;32m----> 2\u001b[0m parse(grammar, message)\n",
      "Input \u001b[0;32mIn [18]\u001b[0m, in \u001b[0;36mparse\u001b[0;34m(grammar, message)\u001b[0m\n\u001b[1;32m      1\u001b[0m \u001b[38;5;28;01mdef\u001b[39;00m \u001b[38;5;21mparse\u001b[39m(grammar, message):\n\u001b[0;32m----> 2\u001b[0m     parse_tree \u001b[38;5;241m=\u001b[39m \u001b[43mgrammar\u001b[49m\u001b[38;5;241;43m.\u001b[39;49m\u001b[43mparse\u001b[49m\u001b[43m(\u001b[49m\u001b[43mmessage\u001b[49m\u001b[43m)\u001b[49m\n\u001b[1;32m      3\u001b[0m     output \u001b[38;5;241m=\u001b[39m daide_visitor\u001b[38;5;241m.\u001b[39mvisit(parse_tree)\n\u001b[1;32m      4\u001b[0m     pprint(output)\n",
      "File \u001b[0;32m~/proj/accord/venv/lib/python3.9/site-packages/parsimonious/grammar.py:111\u001b[0m, in \u001b[0;36mGrammar.parse\u001b[0;34m(self, text, pos)\u001b[0m\n\u001b[1;32m    105\u001b[0m \u001b[38;5;124;03m\"\"\"Parse some text with the :term:`default rule`.\u001b[39;00m\n\u001b[1;32m    106\u001b[0m \n\u001b[1;32m    107\u001b[0m \u001b[38;5;124;03m:arg pos: The index at which to start parsing\u001b[39;00m\n\u001b[1;32m    108\u001b[0m \n\u001b[1;32m    109\u001b[0m \u001b[38;5;124;03m\"\"\"\u001b[39;00m\n\u001b[1;32m    110\u001b[0m \u001b[38;5;28mself\u001b[39m\u001b[38;5;241m.\u001b[39m_check_default_rule()\n\u001b[0;32m--> 111\u001b[0m \u001b[38;5;28;01mreturn\u001b[39;00m \u001b[38;5;28;43mself\u001b[39;49m\u001b[38;5;241;43m.\u001b[39;49m\u001b[43mdefault_rule\u001b[49m\u001b[38;5;241;43m.\u001b[39;49m\u001b[43mparse\u001b[49m\u001b[43m(\u001b[49m\u001b[43mtext\u001b[49m\u001b[43m,\u001b[49m\u001b[43m \u001b[49m\u001b[43mpos\u001b[49m\u001b[38;5;241;43m=\u001b[39;49m\u001b[43mpos\u001b[49m\u001b[43m)\u001b[49m\n",
      "File \u001b[0;32m~/proj/accord/venv/lib/python3.9/site-packages/parsimonious/expressions.py:130\u001b[0m, in \u001b[0;36mExpression.parse\u001b[0;34m(self, text, pos)\u001b[0m\n\u001b[1;32m    122\u001b[0m \u001b[38;5;28;01mdef\u001b[39;00m \u001b[38;5;21mparse\u001b[39m(\u001b[38;5;28mself\u001b[39m, text, pos\u001b[38;5;241m=\u001b[39m\u001b[38;5;241m0\u001b[39m):\n\u001b[1;32m    123\u001b[0m     \u001b[38;5;124;03m\"\"\"Return a parse tree of ``text``.\u001b[39;00m\n\u001b[1;32m    124\u001b[0m \n\u001b[1;32m    125\u001b[0m \u001b[38;5;124;03m    Raise ``ParseError`` if the expression wasn't satisfied. Raise\u001b[39;00m\n\u001b[0;32m   (...)\u001b[0m\n\u001b[1;32m    128\u001b[0m \n\u001b[1;32m    129\u001b[0m \u001b[38;5;124;03m    \"\"\"\u001b[39;00m\n\u001b[0;32m--> 130\u001b[0m     node \u001b[38;5;241m=\u001b[39m \u001b[38;5;28;43mself\u001b[39;49m\u001b[38;5;241;43m.\u001b[39;49m\u001b[43mmatch\u001b[49m\u001b[43m(\u001b[49m\u001b[43mtext\u001b[49m\u001b[43m,\u001b[49m\u001b[43m \u001b[49m\u001b[43mpos\u001b[49m\u001b[38;5;241;43m=\u001b[39;49m\u001b[43mpos\u001b[49m\u001b[43m)\u001b[49m\n\u001b[1;32m    131\u001b[0m     \u001b[38;5;28;01mif\u001b[39;00m node\u001b[38;5;241m.\u001b[39mend \u001b[38;5;241m<\u001b[39m \u001b[38;5;28mlen\u001b[39m(text):\n\u001b[1;32m    132\u001b[0m         \u001b[38;5;28;01mraise\u001b[39;00m IncompleteParseError(text, node\u001b[38;5;241m.\u001b[39mend, \u001b[38;5;28mself\u001b[39m)\n",
      "File \u001b[0;32m~/proj/accord/venv/lib/python3.9/site-packages/parsimonious/expressions.py:147\u001b[0m, in \u001b[0;36mExpression.match\u001b[0;34m(self, text, pos)\u001b[0m\n\u001b[1;32m    145\u001b[0m node \u001b[38;5;241m=\u001b[39m \u001b[38;5;28mself\u001b[39m\u001b[38;5;241m.\u001b[39mmatch_core(text, pos, {}, error)\n\u001b[1;32m    146\u001b[0m \u001b[38;5;28;01mif\u001b[39;00m node \u001b[38;5;129;01mis\u001b[39;00m \u001b[38;5;28;01mNone\u001b[39;00m:\n\u001b[0;32m--> 147\u001b[0m     \u001b[38;5;28;01mraise\u001b[39;00m error\n\u001b[1;32m    148\u001b[0m \u001b[38;5;28;01mreturn\u001b[39;00m node\n",
      "\u001b[0;31mParseError\u001b[0m: Rule 'power' didn't match at '(ENG AMY LVP) HLD))' (line 1, column 11)."
     ]
    }
   ],
   "source": [
    "message = 'PRP (PCE ((ENG AMY LVP) HLD))'\n",
    "parse(grammar, message)"
   ]
  },
  {
   "cell_type": "markdown",
   "id": "12355302",
   "metadata": {},
   "source": [
    "# Constructing DAIDE strings with keyword objects"
   ]
  },
  {
   "cell_type": "code",
   "execution_count": 44,
   "id": "0ba9596e",
   "metadata": {},
   "outputs": [],
   "source": [
    "from daidepp.keywords import *"
   ]
  },
  {
   "cell_type": "code",
   "execution_count": 55,
   "id": "33e7bc27",
   "metadata": {},
   "outputs": [
    {
     "name": "stdout",
     "output_type": "stream",
     "text": [
      "PCE ( AUS ENG FRA )\n"
     ]
    }
   ],
   "source": [
    "print(PCE(\"AUS\", \"ENG\", \"FRA\"))"
   ]
  },
  {
   "cell_type": "code",
   "execution_count": 56,
   "id": "6a5d157e",
   "metadata": {},
   "outputs": [
    {
     "name": "stdout",
     "output_type": "stream",
     "text": [
      "ALY ( AUS GER ) VSS ( ENG FRA )\n"
     ]
    }
   ],
   "source": [
    "print(ALYVSS([\"AUS\", \"GER\"], [\"ENG\", \"FRA\"]))"
   ]
  },
  {
   "cell_type": "code",
   "execution_count": 59,
   "id": "f0bd9622",
   "metadata": {},
   "outputs": [
    {
     "name": "stdout",
     "output_type": "stream",
     "text": [
      "IFF ( PCE ( AUS ENG ) ) THN ( PRP ( PCE ( AUS ITA ) ) )\n"
     ]
    }
   ],
   "source": [
    "print(IFF(PCE(\"AUS\", \"ENG\"), PRP(PCE(\"AUS\", \"ITA\"))))"
   ]
  },
  {
   "cell_type": "code",
   "execution_count": 58,
   "id": "ca426f4a",
   "metadata": {},
   "outputs": [
    {
     "name": "stdout",
     "output_type": "stream",
     "text": [
      "IFF ( PCE ( AUS ENG ) ) THN ( PRP ( PCE ( AUS ITA ) ) ) ELS ( PRP ( PCE ( GER FRA ) ) )\n"
     ]
    }
   ],
   "source": [
    "print(IFF(PCE(\"AUS\", \"ENG\"), PRP(PCE(\"AUS\", \"ITA\")), PRP(PCE(\"GER\", \"FRA\"))))"
   ]
  },
  {
   "cell_type": "code",
   "execution_count": null,
   "id": "f2c7f416",
   "metadata": {},
   "outputs": [],
   "source": []
  },
  {
   "cell_type": "code",
   "execution_count": 69,
   "id": "e9b595a5",
   "metadata": {},
   "outputs": [
    {
     "name": "stdout",
     "output_type": "stream",
     "text": [
      "('AUS', 'GER')\n"
     ]
    },
    {
     "ename": "AttributeError",
     "evalue": "'PCE' object has no attribute 'tuple'",
     "output_type": "error",
     "traceback": [
      "\u001b[0;31m---------------------------------------------------------------------------\u001b[0m",
      "\u001b[0;31mAttributeError\u001b[0m                            Traceback (most recent call last)",
      "Input \u001b[0;32mIn [69]\u001b[0m, in \u001b[0;36m<cell line: 22>\u001b[0;34m()\u001b[0m\n\u001b[1;32m     20\u001b[0m pce \u001b[38;5;241m=\u001b[39m PCE(\u001b[38;5;124m\"\u001b[39m\u001b[38;5;124mAUS\u001b[39m\u001b[38;5;124m\"\u001b[39m, \u001b[38;5;124m\"\u001b[39m\u001b[38;5;124mGER\u001b[39m\u001b[38;5;124m\"\u001b[39m)\n\u001b[1;32m     21\u001b[0m \u001b[38;5;28mprint\u001b[39m(pce\u001b[38;5;241m.\u001b[39mpowers)\n\u001b[0;32m---> 22\u001b[0m \u001b[38;5;28mprint\u001b[39m(pce\u001b[38;5;241m.\u001b[39mtuple)\n",
      "\u001b[0;31mAttributeError\u001b[0m: 'PCE' object has no attribute 'tuple'"
     ]
    }
   ],
   "source": [
    "from dataclasses import dataclass\n",
    "from typing_extensions import Literal\n",
    "\n",
    "POWER = Literal[\"AUS\", \"ENG\", \"FRA\", \"GER\", \"ITA\", \"RUS\", \"TUR\"]\n",
    "\n",
    "@dataclass\n",
    "class PCE:\n",
    "    powers: List[POWER]\n",
    "\n",
    "    def __init__(self, *powers):\n",
    "        self.powers = powers\n",
    "\n",
    "    def __str__(self):\n",
    "        return \"PCE ( \" + \" \".join(self.powers) + \" )\"\n",
    "    \n",
    "    def as_tuple(self):\n",
    "        return ('PCE', ('AUS', 'GER', 'FRA'))\n",
    "    \n",
    "\n",
    "pce = PCE(\"AUS\", \"GER\")\n",
    "print(pce.powers)\n",
    "print(pce.tuple)"
   ]
  },
  {
   "cell_type": "code",
   "execution_count": null,
   "id": "ed9a1f59",
   "metadata": {},
   "outputs": [],
   "source": []
  }
 ],
 "metadata": {
  "kernelspec": {
   "display_name": "Python 3 (ipykernel)",
   "language": "python",
   "name": "python3"
  },
  "language_info": {
   "codemirror_mode": {
    "name": "ipython",
    "version": 3
   },
   "file_extension": ".py",
   "mimetype": "text/x-python",
   "name": "python",
   "nbconvert_exporter": "python",
   "pygments_lexer": "ipython3",
   "version": "3.9.15"
  }
 },
 "nbformat": 4,
 "nbformat_minor": 5
}
